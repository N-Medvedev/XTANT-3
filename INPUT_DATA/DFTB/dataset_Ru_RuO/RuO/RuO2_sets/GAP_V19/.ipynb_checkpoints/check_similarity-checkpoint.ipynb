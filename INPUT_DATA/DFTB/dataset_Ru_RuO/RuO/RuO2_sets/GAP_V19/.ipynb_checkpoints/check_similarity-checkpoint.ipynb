{
 "cells": [
  {
   "cell_type": "code",
   "execution_count": 44,
   "metadata": {},
   "outputs": [],
   "source": [
    "import sys\n",
    "sys.path.insert(1, '/Users/yonghyuk/Dropbox/python/machine-learning/Jakob')\n",
    "from generation_analysis.generation import *\n",
    "from generation_analysis.similarity import *\n",
    "import os\n",
    "import csv"
   ]
  },
  {
   "cell_type": "code",
   "execution_count": 27,
   "metadata": {},
   "outputs": [],
   "source": [
    "def get_scores(dumpfile='lmp_trj.lammpstrj'):\n",
    "    atoms = ase.io.read(dumpfile, \":\")\n",
    "    atoms = update_structure(atoms)\n",
    "    scores = []\n",
    "    for a in atoms:\n",
    "        scores.append(calculate_score(structure2training(a, [atoms[0]])))\n",
    "    \n",
    "    return scores"
   ]
  },
  {
   "cell_type": "code",
   "execution_count": 17,
   "metadata": {},
   "outputs": [],
   "source": [
    "def get_temperature(logfile='log.lammps'):\n",
    "    temperatures = []\n",
    "    snapshots = []\n",
    "    collect = False\n",
    "    with open(logfile) as lf:\n",
    "        line = lf.readline()\n",
    "        while line:\n",
    "            if line.startswith('minimize'):\n",
    "                collect = False\n",
    "            elif line.startswith('run'):\n",
    "                collect = True\n",
    "            elif line.startswith('dump') and not collect:\n",
    "                dumpfile = line.split()[5]\n",
    "                number_snapshots = int(line.split()[4])\n",
    "            elif line.startswith('Step') and collect:\n",
    "                tempid = np.argwhere(np.array(line.split())=='Temp')[0,0]\n",
    "                while line:\n",
    "                    try:\n",
    "                        line = lf.readline()\n",
    "                        temperatures.append(float(line.split()[tempid]))\n",
    "                        snapshots.append(int(line.split()[0]))\n",
    "                    except:\n",
    "                        break\n",
    "            line = lf.readline()\n",
    "    \n",
    "    return temperatures, snapshots"
   ]
  },
  {
   "cell_type": "code",
   "execution_count": 28,
   "metadata": {},
   "outputs": [],
   "source": [
    "temp, snaps = get_temperature()\n",
    "#scores = get_scores()"
   ]
  },
  {
   "cell_type": "code",
   "execution_count": 34,
   "metadata": {},
   "outputs": [],
   "source": [
    "atoms = ase.io.read(dumpfile, \":\")\n",
    "atoms = update_structure(atoms)"
   ]
  },
  {
   "cell_type": "code",
   "execution_count": 35,
   "metadata": {},
   "outputs": [],
   "source": [
    "scores = []\n",
    "for a in atoms:\n",
    "    scores.append(calculate_score(structure2training(a, [atoms[0]])))"
   ]
  },
  {
   "cell_type": "code",
   "execution_count": 43,
   "metadata": {},
   "outputs": [],
   "source": [
    "plt.figure()\n",
    "plt.subplot(211)\n",
    "plt.plot(snaps, temp)\n",
    "plt.subplot(212)\n",
    "plt.plot(scores)\n",
    "plt.ylim(0.0, 0.5)\n",
    "plt.savefig('test.png')"
   ]
  },
  {
   "cell_type": "code",
   "execution_count": 50,
   "metadata": {},
   "outputs": [],
   "source": [
    "with open('test.csv', 'w') as f: \n",
    "    write.writerow(snaps) \n",
    "    write.writerow(temp)\n",
    "    write.writerow(scores)"
   ]
  },
  {
   "cell_type": "code",
   "execution_count": null,
   "metadata": {},
   "outputs": [],
   "source": []
  }
 ],
 "metadata": {
  "kernelspec": {
   "display_name": "Python 2",
   "language": "python",
   "name": "python2"
  },
  "language_info": {
   "codemirror_mode": {
    "name": "ipython",
    "version": 2
   },
   "file_extension": ".py",
   "mimetype": "text/x-python",
   "name": "python",
   "nbconvert_exporter": "python",
   "pygments_lexer": "ipython2",
   "version": "2.7.18"
  }
 },
 "nbformat": 4,
 "nbformat_minor": 2
}
